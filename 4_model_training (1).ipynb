{
 "cells": [
  {
   "cell_type": "markdown",
   "id": "27cbb360-f164-42a4-9bb7-9f4f0206edee",
   "metadata": {},
   "source": [
    "## Train the whole dataset and test with random texts"
   ]
  },
  {
   "cell_type": "code",
   "execution_count": 1,
   "id": "1f1f17ba-38c2-48c4-8a82-2cc78704b5b0",
   "metadata": {},
   "outputs": [
    {
     "name": "stderr",
     "output_type": "stream",
     "text": [
      "[nltk_data] Downloading package stopwords to\n",
      "[nltk_data]     /Users/janeydong/nltk_data...\n",
      "[nltk_data]   Package stopwords is already up-to-date!\n"
     ]
    }
   ],
   "source": [
    "# Imports\n",
    "from sklearn.model_selection import train_test_split\n",
    "from sklearn.naive_bayes import MultinomialNB\n",
    "from sklearn.metrics import classification_report, confusion_matrix\n",
    "import string\n",
    "import nltk\n",
    "nltk.download('stopwords')\n",
    "from nltk.corpus import stopwords\n",
    "from sklearn.feature_extraction.text import CountVectorizer\n",
    "import scipy.sparse as sparse\n",
    "import pickle\n",
    "import numpy as np\n",
    "import pandas as pd\n",
    "import matplotlib.pyplot as plt\n",
    "import seaborn as sns\n",
    "\n"
   ]
  },
  {
   "cell_type": "markdown",
   "id": "dc19feb1-2fdf-4d0d-acaa-be6cf23f55a4",
   "metadata": {},
   "source": [
    "### Import cleaned dataset"
   ]
  },
  {
   "cell_type": "code",
   "execution_count": 2,
   "id": "ff52454f-0181-421d-b241-4e37c7d70a4b",
   "metadata": {},
   "outputs": [],
   "source": [
    "# Load yelp_vectorizer\n",
    "yelp_vectorizer = sparse.load_npz('yelp_vectorizer.npz')"
   ]
  },
  {
   "cell_type": "code",
   "execution_count": 3,
   "id": "6949fdd9-3f54-46f3-af89-5a37fe12d382",
   "metadata": {},
   "outputs": [
    {
     "name": "stderr",
     "output_type": "stream",
     "text": [
      "[nltk_data] Downloading package stopwords to\n",
      "[nltk_data]     /Users/janeydong/nltk_data...\n",
      "[nltk_data]   Package stopwords is already up-to-date!\n"
     ]
    },
    {
     "name": "stdout",
     "output_type": "stream",
     "text": [
      "[[0 0 0 ... 0 0 0]\n",
      " [0 0 0 ... 0 0 0]\n",
      " [0 0 0 ... 0 0 0]\n",
      " ...\n",
      " [0 0 0 ... 0 0 0]\n",
      " [0 0 0 ... 0 0 0]\n",
      " [0 0 0 ... 0 0 0]]\n"
     ]
    }
   ],
   "source": [
    "# load vectorizer\n",
    "%store -r yelp_df_1_5 \n",
    "%run 3_data_cleaning.ipynb   \n",
    "message_cleaning(yelp_df_1_5['text']) \n",
    "vectorizer = pickle.load(open(\"vectorizer.pickle\",\"rb\"))"
   ]
  },
  {
   "cell_type": "markdown",
   "id": "cf5bc83c-822d-4079-a32e-dcb7804dc75b",
   "metadata": {},
   "source": [
    "### Model Training (Use complete dataset without splitting into training and test dataset)"
   ]
  },
  {
   "cell_type": "code",
   "execution_count": 4,
   "id": "84e524c8-a439-4ae7-b5ab-1d4fd5f38e73",
   "metadata": {},
   "outputs": [],
   "source": [
    "# Create the features (X) and target (y) sets\n",
    "X = yelp_vectorizer\n",
    "y = yelp_df_1_5['stars'].values\n"
   ]
  },
  {
   "cell_type": "code",
   "execution_count": 5,
   "id": "e57081c1-eb45-4832-be12-a118c267c756",
   "metadata": {},
   "outputs": [],
   "source": [
    "# Create training and testing datasets\n",
    "X_train, X_test, y_train, y_test = train_test_split(X, y, random_state=1)\n",
    "                                                    "
   ]
  },
  {
   "cell_type": "code",
   "execution_count": 6,
   "id": "ca55ed23-d3c8-4ccd-92bf-0a0642ab0da7",
   "metadata": {},
   "outputs": [],
   "source": [
    "# Create a multinomialNB model\n",
    "NB_classifier = MultinomialNB()\n"
   ]
  },
  {
   "cell_type": "code",
   "execution_count": 7,
   "id": "de4a6a69-66d7-4ac6-a10f-78a262205179",
   "metadata": {},
   "outputs": [
    {
     "data": {
      "text/plain": [
       "MultinomialNB()"
      ]
     },
     "execution_count": 7,
     "metadata": {},
     "output_type": "execute_result"
    }
   ],
   "source": [
    "# Fitting the model\n",
    "NB_classifier.fit(X_train, y_train)\n"
   ]
  },
  {
   "cell_type": "code",
   "execution_count": 8,
   "id": "6fcd3f6f-848d-4391-b9bb-ca021d45c7b6",
   "metadata": {},
   "outputs": [],
   "source": [
    "y_predict_train = NB_classifier.predict(X_train)"
   ]
  },
  {
   "cell_type": "code",
   "execution_count": 9,
   "id": "2c59fac9-54c3-4e00-84e9-1a022352897b",
   "metadata": {},
   "outputs": [
    {
     "data": {
      "text/plain": [
       "array([[1844,  143],\n",
       "       [ 147, 5954]])"
      ]
     },
     "execution_count": 9,
     "metadata": {},
     "output_type": "execute_result"
    }
   ],
   "source": [
    "cm_train = confusion_matrix(y_train, y_predict_train)\n",
    "cm_train"
   ]
  },
  {
   "cell_type": "code",
   "execution_count": 10,
   "id": "d1dae968-e2ef-46df-b7d1-df2e19509a74",
   "metadata": {},
   "outputs": [
    {
     "data": {
      "text/plain": [
       "<AxesSubplot:>"
      ]
     },
     "execution_count": 10,
     "metadata": {},
     "output_type": "execute_result"
    },
    {
     "data": {
      "image/png": "[encoded data removed]",
      "text/plain": [
       "<Figure size 432x288 with 2 Axes>"
      ]
     },
     "metadata": {
      "needs_background": "light"
     },
     "output_type": "display_data"
    }
   ],
   "source": [
    "sns.heatmap(cm_train, annot = True)"
   ]
  },
  {
   "cell_type": "code",
   "execution_count": 11,
   "id": "5ee7b1e0-3af8-470a-a43b-2c2de0b7efaa",
   "metadata": {},
   "outputs": [],
   "source": [
    "y_predict_test = NB_classifier.predict(X_test)"
   ]
  },
  {
   "cell_type": "code",
   "execution_count": 12,
   "id": "aebd320f-cbb4-4f48-81ce-64ccd16bd42e",
   "metadata": {},
   "outputs": [
    {
     "data": {
      "text/plain": [
       "array([[ 585,   96],\n",
       "       [  97, 1919]])"
      ]
     },
     "execution_count": 12,
     "metadata": {},
     "output_type": "execute_result"
    }
   ],
   "source": [
    "cm_test = confusion_matrix(y_test, y_predict_test)\n",
    "cm_test"
   ]
  },
  {
   "cell_type": "code",
   "execution_count": 13,
   "id": "0b403446-063e-46df-87b2-699f3973b217",
   "metadata": {},
   "outputs": [
    {
     "data": {
      "text/plain": [
       "<AxesSubplot:>"
      ]
     },
     "execution_count": 13,
     "metadata": {},
     "output_type": "execute_result"
    },
    {
     "data": {
      "image/png": "[encoded data removed]",
      "text/plain": [
       "<Figure size 432x288 with 2 Axes>"
      ]
     },
     "metadata": {
      "needs_background": "light"
     },
     "output_type": "display_data"
    }
   ],
   "source": [
    "sns.heatmap(cm_test, annot = True)"
   ]
  },
  {
   "cell_type": "code",
   "execution_count": 14,
   "id": "6a52c954-c72f-4df6-ad8f-fc0f790a781a",
   "metadata": {},
   "outputs": [
    {
     "name": "stdout",
     "output_type": "stream",
     "text": [
      "              precision    recall  f1-score   support\n",
      "\n",
      "         1.0       0.86      0.86      0.86       681\n",
      "         5.0       0.95      0.95      0.95      2016\n",
      "\n",
      "    accuracy                           0.93      2697\n",
      "   macro avg       0.91      0.91      0.91      2697\n",
      "weighted avg       0.93      0.93      0.93      2697\n",
      "\n"
     ]
    }
   ],
   "source": [
    "print(classification_report(y_test, y_predict_test))"
   ]
  },
  {
   "cell_type": "code",
   "execution_count": 20,
   "id": "e3a32838-839b-4d43-8767-0ac4b50a1013",
   "metadata": {},
   "outputs": [
    {
     "data": {
      "text/plain": [
       "array([1.])"
      ]
     },
     "execution_count": 20,
     "metadata": {},
     "output_type": "execute_result"
    }
   ],
   "source": [
    "testing_sample = ['The worst one in America. They charged 19$ and the service is so worst. It was so quick with less than 3 minutes. Charged for cleaning Rims, windows, interior too. But it was never touched and the exterior cleaning was horrible too.Also, said that they would spray anti-rust on the bottom but never did it. I would very strongly recommend not to visit this unless you want to pay free money.']\n",
    "##testing_sample = ['Fun place! Isabelle was great!!! She was friendly and very accommodating! She helped us decide between all the signature drinks they have here!']\n",
    "\n",
    "testing_sample_vectorizer = vectorizer.transform(testing_sample)\n",
    "test_predict = NB_classifier.predict(testing_sample_vectorizer)\n",
    "\n",
    "test_predict"
   ]
  },
  {
   "cell_type": "code",
   "execution_count": null,
   "id": "2d8465e0-89c1-4a2f-b5c0-650e9b57572d",
   "metadata": {},
   "outputs": [],
   "source": []
  },
  {
   "cell_type": "code",
   "execution_count": null,
   "id": "fd912c39-c289-46e8-aad7-ac68fbcf5238",
   "metadata": {},
   "outputs": [],
   "source": []
  }
 ],
 "metadata": {
  "kernelspec": {
   "display_name": "Python 3 (ipykernel)",
   "language": "python",
   "name": "python3"
  },
  "language_info": {
   "codemirror_mode": {
    "name": "ipython",
    "version": 3
   },
   "file_extension": ".py",
   "mimetype": "text/x-python",
   "name": "python",
   "nbconvert_exporter": "python",
   "pygments_lexer": "ipython3",
   "version": "3.7.13"
  }
 },
 "nbformat": 4,
 "nbformat_minor": 5
}
