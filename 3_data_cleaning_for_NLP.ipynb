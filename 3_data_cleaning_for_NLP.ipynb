{
 "cells": [
  {
   "cell_type": "markdown",
   "id": "9fc2204b-9318-4dea-9ab5-1ab5accaa6b5",
   "metadata": {},
   "source": [
    "## Data Cleaning for applying NLP"
   ]
  },
  {
   "cell_type": "code",
   "execution_count": 1,
   "id": "66144460-f064-4b24-98a7-7486437fd1c3",
   "metadata": {},
   "outputs": [
    {
     "name": "stderr",
     "output_type": "stream",
     "text": [
      "[nltk_data] Downloading package stopwords to\n",
      "[nltk_data]     /Users/janeydong/nltk_data...\n",
      "[nltk_data]   Package stopwords is already up-to-date!\n"
     ]
    }
   ],
   "source": [
    "import string\n",
    "import nltk\n",
    "nltk.download('stopwords')\n",
    "from nltk.corpus import stopwords\n",
    "from sklearn.feature_extraction.text import CountVectorizer\n",
    "import scipy.sparse as sparse\n",
    "import pickle\n",
    "import pandas as pd\n",
    "import matplotlib.pyplot as plt"
   ]
  },
  {
   "cell_type": "code",
   "execution_count": 2,
   "id": "f6650648-5660-418a-8c1e-7df3c2f386c7",
   "metadata": {},
   "outputs": [],
   "source": [
    "%store -r yelp_df_1_5"
   ]
  },
  {
   "cell_type": "markdown",
   "id": "abdea8c6-3d89-4133-93aa-f3517085d8a3",
   "metadata": {},
   "source": [
    "#### (1) Remove punctuations"
   ]
  },
  {
   "cell_type": "code",
   "execution_count": 3,
   "id": "568b7088-22e9-463d-ab80-50ebf404e933",
   "metadata": {},
   "outputs": [
    {
     "data": {
      "text/plain": [
       "'!\"#$%&\\'()*+,-./:;<=>?@[\\\\]^_`{|}~'"
      ]
     },
     "execution_count": 3,
     "metadata": {},
     "output_type": "execute_result"
    }
   ],
   "source": [
    "punct = string.punctuation\n",
    "punct"
   ]
  },
  {
   "cell_type": "markdown",
   "id": "5dc45311-bc90-4d91-b5d3-0511370608d5",
   "metadata": {},
   "source": [
    "#### (2) Remove stopwords"
   ]
  },
  {
   "cell_type": "code",
   "execution_count": 4,
   "id": "3e091bbe-4554-4cc9-8ef1-6227307a2f29",
   "metadata": {},
   "outputs": [
    {
     "data": {
      "text/plain": [
       "['i',\n",
       " 'me',\n",
       " 'my',\n",
       " 'myself',\n",
       " 'we',\n",
       " 'our',\n",
       " 'ours',\n",
       " 'ourselves',\n",
       " 'you',\n",
       " \"you're\",\n",
       " \"you've\",\n",
       " \"you'll\",\n",
       " \"you'd\",\n",
       " 'your',\n",
       " 'yours',\n",
       " 'yourself',\n",
       " 'yourselves',\n",
       " 'he',\n",
       " 'him',\n",
       " 'his',\n",
       " 'himself',\n",
       " 'she',\n",
       " \"she's\",\n",
       " 'her',\n",
       " 'hers',\n",
       " 'herself',\n",
       " 'it',\n",
       " \"it's\",\n",
       " 'its',\n",
       " 'itself',\n",
       " 'they',\n",
       " 'them',\n",
       " 'their',\n",
       " 'theirs',\n",
       " 'themselves',\n",
       " 'what',\n",
       " 'which',\n",
       " 'who',\n",
       " 'whom',\n",
       " 'this',\n",
       " 'that',\n",
       " \"that'll\",\n",
       " 'these',\n",
       " 'those',\n",
       " 'am',\n",
       " 'is',\n",
       " 'are',\n",
       " 'was',\n",
       " 'were',\n",
       " 'be',\n",
       " 'been',\n",
       " 'being',\n",
       " 'have',\n",
       " 'has',\n",
       " 'had',\n",
       " 'having',\n",
       " 'do',\n",
       " 'does',\n",
       " 'did',\n",
       " 'doing',\n",
       " 'a',\n",
       " 'an',\n",
       " 'the',\n",
       " 'and',\n",
       " 'but',\n",
       " 'if',\n",
       " 'or',\n",
       " 'because',\n",
       " 'as',\n",
       " 'until',\n",
       " 'while',\n",
       " 'of',\n",
       " 'at',\n",
       " 'by',\n",
       " 'for',\n",
       " 'with',\n",
       " 'about',\n",
       " 'against',\n",
       " 'between',\n",
       " 'into',\n",
       " 'through',\n",
       " 'during',\n",
       " 'before',\n",
       " 'after',\n",
       " 'above',\n",
       " 'below',\n",
       " 'to',\n",
       " 'from',\n",
       " 'up',\n",
       " 'down',\n",
       " 'in',\n",
       " 'out',\n",
       " 'on',\n",
       " 'off',\n",
       " 'over',\n",
       " 'under',\n",
       " 'again',\n",
       " 'further',\n",
       " 'then',\n",
       " 'once',\n",
       " 'here',\n",
       " 'there',\n",
       " 'when',\n",
       " 'where',\n",
       " 'why',\n",
       " 'how',\n",
       " 'all',\n",
       " 'any',\n",
       " 'both',\n",
       " 'each',\n",
       " 'few',\n",
       " 'more',\n",
       " 'most',\n",
       " 'other',\n",
       " 'some',\n",
       " 'such',\n",
       " 'no',\n",
       " 'nor',\n",
       " 'not',\n",
       " 'only',\n",
       " 'own',\n",
       " 'same',\n",
       " 'so',\n",
       " 'than',\n",
       " 'too',\n",
       " 'very',\n",
       " 's',\n",
       " 't',\n",
       " 'can',\n",
       " 'will',\n",
       " 'just',\n",
       " 'don',\n",
       " \"don't\",\n",
       " 'should',\n",
       " \"should've\",\n",
       " 'now',\n",
       " 'd',\n",
       " 'll',\n",
       " 'm',\n",
       " 'o',\n",
       " 're',\n",
       " 've',\n",
       " 'y',\n",
       " 'ain',\n",
       " 'aren',\n",
       " \"aren't\",\n",
       " 'couldn',\n",
       " \"couldn't\",\n",
       " 'didn',\n",
       " \"didn't\",\n",
       " 'doesn',\n",
       " \"doesn't\",\n",
       " 'hadn',\n",
       " \"hadn't\",\n",
       " 'hasn',\n",
       " \"hasn't\",\n",
       " 'haven',\n",
       " \"haven't\",\n",
       " 'isn',\n",
       " \"isn't\",\n",
       " 'ma',\n",
       " 'mightn',\n",
       " \"mightn't\",\n",
       " 'mustn',\n",
       " \"mustn't\",\n",
       " 'needn',\n",
       " \"needn't\",\n",
       " 'shan',\n",
       " \"shan't\",\n",
       " 'shouldn',\n",
       " \"shouldn't\",\n",
       " 'wasn',\n",
       " \"wasn't\",\n",
       " 'weren',\n",
       " \"weren't\",\n",
       " 'won',\n",
       " \"won't\",\n",
       " 'wouldn',\n",
       " \"wouldn't\"]"
      ]
     },
     "execution_count": 4,
     "metadata": {},
     "output_type": "execute_result"
    }
   ],
   "source": [
    "stopwords = stopwords.words('english')\n",
    "stopwords"
   ]
  },
  {
   "cell_type": "code",
   "execution_count": 5,
   "id": "897864c1-22f5-465e-a623-e3d24a5fb750",
   "metadata": {},
   "outputs": [],
   "source": [
    "# Create a function that remove punctuations and stopwords of texts\n",
    "def message_cleaning(message):\n",
    "    ## remove punctuation\n",
    "    punct_removed = [char for char in message if char not in punct]\n",
    "    punct_removed_join = ''.join(punct_removed)\n",
    "    ## remove stopwords\n",
    "    punct_removed_join_split = punct_removed_join.split()\n",
    "    punct_stopwords_removed = [word for word in punct_removed_join_split if word.lower() not in stopwords]\n",
    "    return punct_stopwords_removed\n"
   ]
  },
  {
   "cell_type": "markdown",
   "id": "9c52f767-addd-4417-82cd-74e80bad4551",
   "metadata": {},
   "source": [
    "#### (3) Count vectorizer (Converting words into numbers)"
   ]
  },
  {
   "cell_type": "code",
   "execution_count": 6,
   "id": "6d7a4655-68b8-4738-9675-5cffeb0923cc",
   "metadata": {
    "tags": []
   },
   "outputs": [],
   "source": [
    "# Create a model that remove punctuations, remove stopwords of texts and converts texts into numbers\n",
    "vectorizer = CountVectorizer(analyzer = message_cleaning)\n"
   ]
  },
  {
   "cell_type": "code",
   "execution_count": 7,
   "id": "886d8c9e-bd68-4b3b-b90c-6dff82a6b234",
   "metadata": {},
   "outputs": [],
   "source": [
    "yelp_vectorizer = vectorizer.fit_transform(yelp_df_1_5['text'])\n"
   ]
  },
  {
   "cell_type": "code",
   "execution_count": 8,
   "id": "b9eeaa45-18b9-4a96-97e4-081f2215473a",
   "metadata": {
    "tags": []
   },
   "outputs": [
    {
     "data": {
      "text/plain": [
       "array(['0', '00', '000', ..., '糖水', '美味しすぎね！', '酸菜魚，辣椒炒肉丁'], dtype=object)"
      ]
     },
     "execution_count": 8,
     "metadata": {},
     "output_type": "execute_result"
    }
   ],
   "source": [
    "vectorizer.get_feature_names_out()\n"
   ]
  },
  {
   "cell_type": "code",
   "execution_count": 9,
   "id": "d95f6235-b341-4611-a741-3a3804364510",
   "metadata": {},
   "outputs": [
    {
     "name": "stdout",
     "output_type": "stream",
     "text": [
      "[[0 0 0 ... 0 0 0]\n",
      " [0 0 0 ... 0 0 0]\n",
      " [0 0 0 ... 0 0 0]\n",
      " ...\n",
      " [0 0 0 ... 0 0 0]\n",
      " [0 0 0 ... 0 0 0]\n",
      " [0 0 0 ... 0 0 0]]\n"
     ]
    }
   ],
   "source": [
    "print(yelp_vectorizer.toarray())"
   ]
  },
  {
   "cell_type": "code",
   "execution_count": 10,
   "id": "b07336b1-e8cb-4822-8791-ec0fe9930db4",
   "metadata": {},
   "outputs": [
    {
     "data": {
      "text/plain": [
       "(10785, 37219)"
      ]
     },
     "execution_count": 10,
     "metadata": {},
     "output_type": "execute_result"
    }
   ],
   "source": [
    "yelp_vectorizer.shape"
   ]
  },
  {
   "cell_type": "code",
   "execution_count": 11,
   "id": "94a3fb8a-80e1-4ad8-a1b0-db3c400dbbe9",
   "metadata": {},
   "outputs": [],
   "source": [
    "sparse.save_npz('yelp_vectorizer.npz', yelp_vectorizer)"
   ]
  },
  {
   "cell_type": "code",
   "execution_count": 12,
   "id": "54360282-3ab8-48ba-9749-986d1ab92a69",
   "metadata": {},
   "outputs": [],
   "source": [
    "pickle.dump(vectorizer, open(\"vectorizer.pickle\", \"wb\"))\n"
   ]
  },
  {
   "cell_type": "code",
   "execution_count": null,
   "id": "31caa052-fa85-4da1-a781-04d223519431",
   "metadata": {},
   "outputs": [],
   "source": []
  }
 ],
 "metadata": {
  "kernelspec": {
   "display_name": "Python 3 (ipykernel)",
   "language": "python",
   "name": "python3"
  },
  "language_info": {
   "codemirror_mode": {
    "name": "ipython",
    "version": 3
   },
   "file_extension": ".py",
   "mimetype": "text/x-python",
   "name": "python",
   "nbconvert_exporter": "python",
   "pygments_lexer": "ipython3",
   "version": "3.7.13"
  }
 },
 "nbformat": 4,
 "nbformat_minor": 5
}
